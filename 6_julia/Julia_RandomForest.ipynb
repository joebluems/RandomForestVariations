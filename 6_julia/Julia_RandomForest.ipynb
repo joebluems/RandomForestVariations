{
 "cells": [
  {
   "cell_type": "markdown",
   "metadata": {},
   "source": [
    "## Read the data with DataFrames package"
   ]
  },
  {
   "cell_type": "code",
   "execution_count": null,
   "metadata": {},
   "outputs": [],
   "source": [
    "using DataFrames \n",
    "data = readtable(\"../sample10k.csv\")\n",
    "size(data)\n",
    "showcols(data)"
   ]
  },
  {
   "cell_type": "markdown",
   "metadata": {},
   "source": [
    "## View the data table"
   ]
  },
  {
   "cell_type": "code",
   "execution_count": null,
   "metadata": {},
   "outputs": [],
   "source": [
    "head(data)"
   ]
  },
  {
   "cell_type": "markdown",
   "metadata": {},
   "source": [
    "## Split into train/test"
   ]
  },
  {
   "cell_type": "code",
   "execution_count": null,
   "metadata": {},
   "outputs": [],
   "source": [
    "using Random\n",
    "function partitionTrainTest(data, at = 0.6)\n",
    "    n = nrow(data)\n",
    "    idx = shuffle(1:n)\n",
    "    train_idx = view(idx, 1:floor(Int, at*n))\n",
    "    test_idx = view(idx, (floor(Int, at*n)+1):n)\n",
    "    data[train_idx,:], data[test_idx,:]\n",
    "end\n",
    "\n",
    "train,test = partitionTrainTest(data, 0.6)"
   ]
  },
  {
   "cell_type": "markdown",
   "metadata": {},
   "source": [
    "## Visuzalize with Histogram"
   ]
  },
  {
   "cell_type": "code",
   "execution_count": null,
   "metadata": {
    "scrolled": true
   },
   "outputs": [],
   "source": [
    "using Plots, StatsPlots \n",
    "pyplot()  \n",
    "Plots.histogram(train[:f1],bins=50,xlabel=\"Feature #1\",labels=\"Frequency\")   "
   ]
  },
  {
   "cell_type": "markdown",
   "metadata": {},
   "source": [
    "## Visualize with Boxplot"
   ]
  },
  {
   "cell_type": "code",
   "execution_count": null,
   "metadata": {},
   "outputs": [],
   "source": [
    " Plots.boxplot(train[:f1], xlabel=\"Feature #1\")"
   ]
  },
  {
   "cell_type": "markdown",
   "metadata": {},
   "source": [
    "## Import Machine Learning libraries"
   ]
  },
  {
   "cell_type": "code",
   "execution_count": null,
   "metadata": {},
   "outputs": [],
   "source": [
    "using ScikitLearn: fit!, predict, @sk_import, fit_transform! \n",
    " @sk_import preprocessing: LabelEncoder \n",
    " @sk_import model_selection: cross_val_score  \n",
    " @sk_import metrics: roc_auc_score \n",
    " @sk_import linear_model: LogisticRegression \n",
    " @sk_import ensemble: RandomForestClassifier \n",
    " @sk_import tree: DecisionTreeClassifier \n",
    "\n",
    "\n",
    " function classification_model(model, predictors) \n",
    "     y = convert(Array, train[:2]) \n",
    "     X = convert(Array, train[predictors]) \n",
    "     X2 = convert(Array, test[predictors])                  \n",
    "     Y2 = convert(Array, test[:2]) \n",
    "    \n",
    "     #Fit the model: \n",
    "     fit!(model, X, y) \n",
    "\n",
    "     #return auc \n",
    "     pred = predict(model, X2) \n",
    "     auc = roc_auc_score(Y2,pred)\n",
    "     return auc \n",
    " end"
   ]
  },
  {
   "cell_type": "markdown",
   "metadata": {},
   "source": [
    "## Random Forest Training & AUC Calculation"
   ]
  },
  {
   "cell_type": "code",
   "execution_count": null,
   "metadata": {},
   "outputs": [],
   "source": [
    "rf = RandomForestClassifier(n_estimators=500, max_depth=5, n_jobs=-1)\n",
    "predictors = [:f1, :f2, :f3, :f4, :f5, :f6, :f7, :f8, :f9, :f10, :f11, :f12 ]\n",
    "classification_model(rf, predictors)"
   ]
  },
  {
   "cell_type": "markdown",
   "metadata": {},
   "source": [
    "## Feature Importances"
   ]
  },
  {
   "cell_type": "code",
   "execution_count": null,
   "metadata": {},
   "outputs": [],
   "source": [
    "labels=[]\n",
    "print(\"Feature\\tImportance\\n\")\n",
    "for i in range(1,stop=length(predictors))\n",
    "    push!(labels,i)\n",
    "    print(predictors[i], \"\\t\", rf.feature_importances_[i],\"\\n\")\n",
    "end"
   ]
  },
  {
   "cell_type": "markdown",
   "metadata": {},
   "source": [
    "## Visualize Feature Importances"
   ]
  },
  {
   "cell_type": "code",
   "execution_count": null,
   "metadata": {},
   "outputs": [],
   "source": [
    "Plots.bar(labels, rf.feature_importances_, label=\"Importance\")   "
   ]
  },
  {
   "cell_type": "code",
   "execution_count": null,
   "metadata": {
    "collapsed": true
   },
   "outputs": [],
   "source": []
  }
 ],
 "metadata": {
  "kernelspec": {
   "display_name": "Julia 1.1.0",
   "language": "julia",
   "name": "julia-1.1"
  },
  "language_info": {
   "file_extension": ".jl",
   "mimetype": "application/julia",
   "name": "julia",
   "version": "1.1.0"
  }
 },
 "nbformat": 4,
 "nbformat_minor": 2
}
