{
 "cells": [
  {
   "cell_type": "markdown",
   "metadata": {},
   "source": [
    "## Getting tensorflow libraries"
   ]
  },
  {
   "cell_type": "code",
   "execution_count": 1,
   "metadata": {
    "collapsed": true
   },
   "outputs": [],
   "source": [
    "from __future__ import print_function\n",
    "import numpy as np\n",
    "import sklearn\n",
    "import pandas as pd\n",
    "import tensorflow as tf\n",
    "from tensorflow.contrib.tensor_forest.python import tensor_forest\n",
    "from tensorflow.python.ops import resources\n"
   ]
  },
  {
   "cell_type": "markdown",
   "metadata": {},
   "source": [
    "## Import & examine the data"
   ]
  },
  {
   "cell_type": "code",
   "execution_count": 2,
   "metadata": {},
   "outputs": [
    {
     "data": {
      "text/html": [
       "<div>\n",
       "<style>\n",
       "    .dataframe thead tr:only-child th {\n",
       "        text-align: right;\n",
       "    }\n",
       "\n",
       "    .dataframe thead th {\n",
       "        text-align: left;\n",
       "    }\n",
       "\n",
       "    .dataframe tbody tr th {\n",
       "        vertical-align: top;\n",
       "    }\n",
       "</style>\n",
       "<table border=\"1\" class=\"dataframe\">\n",
       "  <thead>\n",
       "    <tr style=\"text-align: right;\">\n",
       "      <th></th>\n",
       "      <th>target</th>\n",
       "      <th>f1</th>\n",
       "      <th>f2</th>\n",
       "      <th>f3</th>\n",
       "      <th>f4</th>\n",
       "      <th>f5</th>\n",
       "      <th>f6</th>\n",
       "      <th>f7</th>\n",
       "      <th>f8</th>\n",
       "      <th>f9</th>\n",
       "      <th>f10</th>\n",
       "      <th>f11</th>\n",
       "      <th>f12</th>\n",
       "    </tr>\n",
       "  </thead>\n",
       "  <tbody>\n",
       "    <tr>\n",
       "      <th>count</th>\n",
       "      <td>10000.000000</td>\n",
       "      <td>10000.000000</td>\n",
       "      <td>10000.000000</td>\n",
       "      <td>10000.000000</td>\n",
       "      <td>10000.000000</td>\n",
       "      <td>10000.000000</td>\n",
       "      <td>10000.000000</td>\n",
       "      <td>10000.000000</td>\n",
       "      <td>10000.000000</td>\n",
       "      <td>10000.000000</td>\n",
       "      <td>10000.000000</td>\n",
       "      <td>10000.000000</td>\n",
       "      <td>10000.000000</td>\n",
       "    </tr>\n",
       "    <tr>\n",
       "      <th>mean</th>\n",
       "      <td>0.244200</td>\n",
       "      <td>0.009014</td>\n",
       "      <td>0.011106</td>\n",
       "      <td>-0.013367</td>\n",
       "      <td>0.001166</td>\n",
       "      <td>0.019157</td>\n",
       "      <td>0.047894</td>\n",
       "      <td>-0.025862</td>\n",
       "      <td>0.040380</td>\n",
       "      <td>0.034424</td>\n",
       "      <td>0.039972</td>\n",
       "      <td>0.018248</td>\n",
       "      <td>-0.042597</td>\n",
       "    </tr>\n",
       "    <tr>\n",
       "      <th>std</th>\n",
       "      <td>0.429633</td>\n",
       "      <td>3.001119</td>\n",
       "      <td>3.016907</td>\n",
       "      <td>2.972178</td>\n",
       "      <td>2.996838</td>\n",
       "      <td>2.992047</td>\n",
       "      <td>3.019129</td>\n",
       "      <td>2.989788</td>\n",
       "      <td>2.963178</td>\n",
       "      <td>3.015606</td>\n",
       "      <td>3.024072</td>\n",
       "      <td>2.980559</td>\n",
       "      <td>3.010707</td>\n",
       "    </tr>\n",
       "    <tr>\n",
       "      <th>min</th>\n",
       "      <td>0.000000</td>\n",
       "      <td>-11.404385</td>\n",
       "      <td>-10.949152</td>\n",
       "      <td>-11.462833</td>\n",
       "      <td>-10.447853</td>\n",
       "      <td>-10.523343</td>\n",
       "      <td>-10.766031</td>\n",
       "      <td>-11.593821</td>\n",
       "      <td>-10.483454</td>\n",
       "      <td>-11.579270</td>\n",
       "      <td>-11.482517</td>\n",
       "      <td>-11.317906</td>\n",
       "      <td>-12.083288</td>\n",
       "    </tr>\n",
       "    <tr>\n",
       "      <th>25%</th>\n",
       "      <td>0.000000</td>\n",
       "      <td>-1.971925</td>\n",
       "      <td>-2.011275</td>\n",
       "      <td>-2.005898</td>\n",
       "      <td>-1.994404</td>\n",
       "      <td>-1.980998</td>\n",
       "      <td>-2.008118</td>\n",
       "      <td>-2.018688</td>\n",
       "      <td>-2.030944</td>\n",
       "      <td>-1.969920</td>\n",
       "      <td>-2.016859</td>\n",
       "      <td>-2.001497</td>\n",
       "      <td>-2.039749</td>\n",
       "    </tr>\n",
       "    <tr>\n",
       "      <th>50%</th>\n",
       "      <td>0.000000</td>\n",
       "      <td>0.025727</td>\n",
       "      <td>-0.010850</td>\n",
       "      <td>0.003183</td>\n",
       "      <td>0.025553</td>\n",
       "      <td>0.026929</td>\n",
       "      <td>0.051229</td>\n",
       "      <td>-0.007793</td>\n",
       "      <td>0.046498</td>\n",
       "      <td>0.037163</td>\n",
       "      <td>0.047354</td>\n",
       "      <td>0.006015</td>\n",
       "      <td>-0.041865</td>\n",
       "    </tr>\n",
       "    <tr>\n",
       "      <th>75%</th>\n",
       "      <td>0.000000</td>\n",
       "      <td>1.979395</td>\n",
       "      <td>2.079668</td>\n",
       "      <td>1.942752</td>\n",
       "      <td>2.016147</td>\n",
       "      <td>2.014459</td>\n",
       "      <td>2.086942</td>\n",
       "      <td>2.007133</td>\n",
       "      <td>2.069759</td>\n",
       "      <td>2.080392</td>\n",
       "      <td>2.060793</td>\n",
       "      <td>2.035454</td>\n",
       "      <td>1.976383</td>\n",
       "    </tr>\n",
       "    <tr>\n",
       "      <th>max</th>\n",
       "      <td>1.000000</td>\n",
       "      <td>12.344934</td>\n",
       "      <td>12.945843</td>\n",
       "      <td>11.292419</td>\n",
       "      <td>11.284082</td>\n",
       "      <td>11.093100</td>\n",
       "      <td>10.605325</td>\n",
       "      <td>12.384680</td>\n",
       "      <td>10.470135</td>\n",
       "      <td>11.059739</td>\n",
       "      <td>10.356222</td>\n",
       "      <td>11.403303</td>\n",
       "      <td>11.760443</td>\n",
       "    </tr>\n",
       "  </tbody>\n",
       "</table>\n",
       "</div>"
      ],
      "text/plain": [
       "             target            f1            f2            f3            f4  \\\n",
       "count  10000.000000  10000.000000  10000.000000  10000.000000  10000.000000   \n",
       "mean       0.244200      0.009014      0.011106     -0.013367      0.001166   \n",
       "std        0.429633      3.001119      3.016907      2.972178      2.996838   \n",
       "min        0.000000    -11.404385    -10.949152    -11.462833    -10.447853   \n",
       "25%        0.000000     -1.971925     -2.011275     -2.005898     -1.994404   \n",
       "50%        0.000000      0.025727     -0.010850      0.003183      0.025553   \n",
       "75%        0.000000      1.979395      2.079668      1.942752      2.016147   \n",
       "max        1.000000     12.344934     12.945843     11.292419     11.284082   \n",
       "\n",
       "                 f5            f6            f7            f8            f9  \\\n",
       "count  10000.000000  10000.000000  10000.000000  10000.000000  10000.000000   \n",
       "mean       0.019157      0.047894     -0.025862      0.040380      0.034424   \n",
       "std        2.992047      3.019129      2.989788      2.963178      3.015606   \n",
       "min      -10.523343    -10.766031    -11.593821    -10.483454    -11.579270   \n",
       "25%       -1.980998     -2.008118     -2.018688     -2.030944     -1.969920   \n",
       "50%        0.026929      0.051229     -0.007793      0.046498      0.037163   \n",
       "75%        2.014459      2.086942      2.007133      2.069759      2.080392   \n",
       "max       11.093100     10.605325     12.384680     10.470135     11.059739   \n",
       "\n",
       "                f10           f11           f12  \n",
       "count  10000.000000  10000.000000  10000.000000  \n",
       "mean       0.039972      0.018248     -0.042597  \n",
       "std        3.024072      2.980559      3.010707  \n",
       "min      -11.482517    -11.317906    -12.083288  \n",
       "25%       -2.016859     -2.001497     -2.039749  \n",
       "50%        0.047354      0.006015     -0.041865  \n",
       "75%        2.060793      2.035454      1.976383  \n",
       "max       10.356222     11.403303     11.760443  "
      ]
     },
     "execution_count": 2,
     "metadata": {},
     "output_type": "execute_result"
    }
   ],
   "source": [
    "data = pd.read_csv('../sample10k.csv')\n",
    "data.describe()"
   ]
  },
  {
   "cell_type": "markdown",
   "metadata": {},
   "source": [
    "## Split the Data"
   ]
  },
  {
   "cell_type": "code",
   "execution_count": 3,
   "metadata": {},
   "outputs": [
    {
     "name": "stdout",
     "output_type": "stream",
     "text": [
      "Size of training:    6000\n",
      "Size of evaluation:  4000\n",
      "\n",
      "First line of training predictors:\n",
      "[ 4.35532638  7.69822162  4.05488623 -0.05420009 -0.86838503  2.85506864\n",
      "  4.23377396 -0.38211895 -1.38040518  5.71197681  4.73818419 -0.99729902]\n"
     ]
    }
   ],
   "source": [
    "from sklearn.model_selection import train_test_split\n",
    "input_x = data.iloc[:, 2:].values\n",
    "input_y = data.iloc[:, 1].values\n",
    "\n",
    "\n",
    "X_train, X_test, y_train, y_test = train_test_split(input_x, input_y, test_size = 0.40, random_state = 0)\n",
    "print(\"Size of training:   \", len(X_train))\n",
    "print(\"Size of evaluation: \",len(X_test))\n",
    "print(\"\\nFirst row of training predictors (numpy) array:\")\n",
    "print(X_train[1])"
   ]
  },
  {
   "cell_type": "markdown",
   "metadata": {},
   "source": [
    "## Set up the tensorflow RF graph "
   ]
  },
  {
   "cell_type": "code",
   "execution_count": 4,
   "metadata": {},
   "outputs": [
    {
     "name": "stdout",
     "output_type": "stream",
     "text": [
      "INFO:tensorflow:Constructing forest with params = \n",
      "INFO:tensorflow:{'num_trees': 500, 'max_nodes': 20, 'bagging_fraction': 1.0, 'feature_bagging_fraction': 1.0, 'num_splits_to_consider': 10, 'max_fertile_nodes': 0, 'split_after_samples': 250, 'valid_leaf_threshold': 1, 'dominate_method': 'bootstrap', 'dominate_fraction': 0.99, 'model_name': 'all_dense', 'split_finish_name': 'basic', 'split_pruning_name': 'none', 'collate_examples': False, 'checkpoint_stats': False, 'use_running_stats_method': False, 'initialize_average_splits': False, 'inference_tree_paths': False, 'param_file': None, 'split_name': 'less_or_equal', 'early_finish_check_every_samples': 0, 'prune_every_samples': 0, 'num_classes': 2, 'num_features': 12, 'bagged_num_features': 12, 'bagged_features': None, 'regression': False, 'num_outputs': 1, 'num_output_columns': 3, 'base_random_seed': 0, 'leaf_model_type': 0, 'stats_model_type': 0, 'finish_type': 0, 'pruning_type': 0, 'split_type': 0}\n"
     ]
    }
   ],
   "source": [
    "import os\n",
    "os.environ[\"CUDA_VISIBLE_DEVICES\"] = \"\"\n",
    "\n",
    "# Parameters\n",
    "num_steps = 100 # Total steps to train\n",
    "num_classes = 2 \n",
    "num_features = 12\n",
    "num_trees = 500 \n",
    "max_nodes = 20 \n",
    "\n",
    "# Input and Target placeholders \n",
    "X = tf.placeholder(tf.float32, shape=[None, num_features])\n",
    "Y = tf.placeholder(tf.int64, shape=[None])\n",
    "\n",
    "# Random Forest Parameters\n",
    "hparams = tensor_forest.ForestHParams(num_classes=num_classes, \n",
    "  num_features=num_features, num_trees=num_trees, max_nodes=max_nodes).fill()\n",
    "\n",
    "# Build the Random Forest\n",
    "#tf.reset_default_graph()\n",
    "forest_graph = tensor_forest.RandomForestGraphs(hparams)\n",
    "\n",
    "# Get training graph and loss\n",
    "train_op = forest_graph.training_graph(X, Y)\n",
    "loss_op = forest_graph.training_loss(X, Y)\n",
    "\n"
   ]
  },
  {
   "cell_type": "code",
   "execution_count": 15,
   "metadata": {},
   "outputs": [
    {
     "name": "stdout",
     "output_type": "stream",
     "text": [
      "Tensor(\"probabilities_5:0\", shape=(?, ?), dtype=float32, device=/device:CPU:0)\n",
      "Tensor(\"strided_slice:0\", shape=(?,), dtype=float32)\n"
     ]
    }
   ],
   "source": [
    "# Measure the accuracy\n",
    "infer_op, _, _ = forest_graph.inference_graph(X)\n",
    "correct_prediction = tf.equal(tf.argmax(infer_op, 1), tf.cast(Y, tf.int64))\n",
    "accuracy_op = tf.reduce_mean(tf.cast(correct_prediction, tf.float32))\n"
   ]
  },
  {
   "cell_type": "markdown",
   "metadata": {},
   "source": [
    "## Training the Model"
   ]
  },
  {
   "cell_type": "code",
   "execution_count": 6,
   "metadata": {},
   "outputs": [
    {
     "name": "stdout",
     "output_type": "stream",
     "text": [
      "Step 1, Loss: -1.000000, Acc: 0.750167\n",
      "Step 50, Loss: -21.000000, Acc: 0.750167\n",
      "Step 100, Loss: -21.000000, Acc: 0.750167\n"
     ]
    }
   ],
   "source": [
    "# Initialize the variables (i.e. assign their default value) and forest resources\n",
    "init_vars = tf.group(tf.global_variables_initializer(),\n",
    "    resources.initialize_resources(resources.shared_resources()))\n",
    "\n",
    "# Start TensorFlow session\n",
    "sess = tf.Session()\n",
    "\n",
    "# Run the initializer\n",
    "sess.run(init_vars)\n",
    "\n",
    "for i in range(1, num_steps + 1):\n",
    "    _, l = sess.run([train_op, loss_op], feed_dict={X: X_train, Y: y_train})\n",
    "    if i % 50 == 0 or i == 1:\n",
    "        acc = sess.run(accuracy_op, feed_dict={X: X_train, Y: y_train})\n",
    "        print('Step %i, Loss: %f, Acc: %f' % (i, l, acc))\n"
   ]
  },
  {
   "cell_type": "markdown",
   "metadata": {
    "collapsed": true
   },
   "source": [
    "## Evaluating AUC"
   ]
  },
  {
   "cell_type": "code",
   "execution_count": 16,
   "metadata": {},
   "outputs": [
    {
     "ename": "TypeError",
     "evalue": "Input 'input_data' of 'TreePredictionsV4' Op has type float64 that does not match expected type of float32.",
     "output_type": "error",
     "traceback": [
      "\u001b[0;31m---------------------------------------------------------------------------\u001b[0m",
      "\u001b[0;31mValueError\u001b[0m                                Traceback (most recent call last)",
      "\u001b[0;32m~/anaconda3/lib/python3.6/site-packages/tensorflow/python/framework/op_def_library.py\u001b[0m in \u001b[0;36m_apply_op_helper\u001b[0;34m(self, op_type_name, name, **keywords)\u001b[0m\n\u001b[1;32m    509\u001b[0m                 \u001b[0mas_ref\u001b[0m\u001b[0;34m=\u001b[0m\u001b[0minput_arg\u001b[0m\u001b[0;34m.\u001b[0m\u001b[0mis_ref\u001b[0m\u001b[0;34m,\u001b[0m\u001b[0;34m\u001b[0m\u001b[0m\n\u001b[0;32m--> 510\u001b[0;31m                 preferred_dtype=default_dtype)\n\u001b[0m\u001b[1;32m    511\u001b[0m           \u001b[0;32mexcept\u001b[0m \u001b[0mTypeError\u001b[0m \u001b[0;32mas\u001b[0m \u001b[0merr\u001b[0m\u001b[0;34m:\u001b[0m\u001b[0;34m\u001b[0m\u001b[0m\n",
      "\u001b[0;32m~/anaconda3/lib/python3.6/site-packages/tensorflow/python/framework/ops.py\u001b[0m in \u001b[0;36minternal_convert_to_tensor\u001b[0;34m(value, dtype, name, as_ref, preferred_dtype, ctx)\u001b[0m\n\u001b[1;32m   1103\u001b[0m     \u001b[0;32mif\u001b[0m \u001b[0mret\u001b[0m \u001b[0;32mis\u001b[0m \u001b[0;32mNone\u001b[0m\u001b[0;34m:\u001b[0m\u001b[0;34m\u001b[0m\u001b[0m\n\u001b[0;32m-> 1104\u001b[0;31m       \u001b[0mret\u001b[0m \u001b[0;34m=\u001b[0m \u001b[0mconversion_func\u001b[0m\u001b[0;34m(\u001b[0m\u001b[0mvalue\u001b[0m\u001b[0;34m,\u001b[0m \u001b[0mdtype\u001b[0m\u001b[0;34m=\u001b[0m\u001b[0mdtype\u001b[0m\u001b[0;34m,\u001b[0m \u001b[0mname\u001b[0m\u001b[0;34m=\u001b[0m\u001b[0mname\u001b[0m\u001b[0;34m,\u001b[0m \u001b[0mas_ref\u001b[0m\u001b[0;34m=\u001b[0m\u001b[0mas_ref\u001b[0m\u001b[0;34m)\u001b[0m\u001b[0;34m\u001b[0m\u001b[0m\n\u001b[0m\u001b[1;32m   1105\u001b[0m \u001b[0;34m\u001b[0m\u001b[0m\n",
      "\u001b[0;32m~/anaconda3/lib/python3.6/site-packages/tensorflow/python/framework/ops.py\u001b[0m in \u001b[0;36m_TensorTensorConversionFunction\u001b[0;34m(t, dtype, name, as_ref)\u001b[0m\n\u001b[1;32m    946\u001b[0m         \u001b[0;34m\"Tensor conversion requested dtype %s for Tensor with dtype %s: %r\"\u001b[0m \u001b[0;34m%\u001b[0m\u001b[0;34m\u001b[0m\u001b[0m\n\u001b[0;32m--> 947\u001b[0;31m         (dtype.name, t.dtype.name, str(t)))\n\u001b[0m\u001b[1;32m    948\u001b[0m   \u001b[0;32mreturn\u001b[0m \u001b[0mt\u001b[0m\u001b[0;34m\u001b[0m\u001b[0m\n",
      "\u001b[0;31mValueError\u001b[0m: Tensor conversion requested dtype float32 for Tensor with dtype float64: 'Tensor(\"Const_6:0\", shape=(4000, 12), dtype=float64)'",
      "\nDuring handling of the above exception, another exception occurred:\n",
      "\u001b[0;31mTypeError\u001b[0m                                 Traceback (most recent call last)",
      "\u001b[0;32m<ipython-input-16-26f71fdfca0d>\u001b[0m in \u001b[0;36m<module>\u001b[0;34m()\u001b[0m\n\u001b[1;32m      1\u001b[0m \u001b[0;31m# Test Model\u001b[0m\u001b[0;34m\u001b[0m\u001b[0;34m\u001b[0m\u001b[0m\n\u001b[0;32m----> 2\u001b[0;31m \u001b[0mprobs\u001b[0m\u001b[0;34m,\u001b[0m \u001b[0m_\u001b[0m\u001b[0;34m,\u001b[0m \u001b[0m_\u001b[0m \u001b[0;34m=\u001b[0m \u001b[0mforest_graph\u001b[0m\u001b[0;34m.\u001b[0m\u001b[0minference_graph\u001b[0m\u001b[0;34m(\u001b[0m\u001b[0mX_test\u001b[0m\u001b[0;34m)\u001b[0m\u001b[0;34m\u001b[0m\u001b[0m\n\u001b[0m\u001b[1;32m      3\u001b[0m \u001b[0;34m\u001b[0m\u001b[0m\n\u001b[1;32m      4\u001b[0m \u001b[0mprint\u001b[0m\u001b[0;34m(\u001b[0m\u001b[0;34m\"Test Accuracy:\"\u001b[0m\u001b[0;34m,\u001b[0m \u001b[0msess\u001b[0m\u001b[0;34m.\u001b[0m\u001b[0mrun\u001b[0m\u001b[0;34m(\u001b[0m\u001b[0maccuracy_op\u001b[0m\u001b[0;34m,\u001b[0m \u001b[0mfeed_dict\u001b[0m\u001b[0;34m=\u001b[0m\u001b[0;34m{\u001b[0m\u001b[0mX\u001b[0m\u001b[0;34m:\u001b[0m \u001b[0mX_test\u001b[0m\u001b[0;34m,\u001b[0m \u001b[0mY\u001b[0m\u001b[0;34m:\u001b[0m \u001b[0my_test\u001b[0m\u001b[0;34m}\u001b[0m\u001b[0;34m)\u001b[0m\u001b[0;34m)\u001b[0m\u001b[0;34m\u001b[0m\u001b[0m\n\u001b[1;32m      5\u001b[0m \u001b[0;31m#print(\"Test AUC\": ,sess.run(auc_op, feed_dict={X: X_test, Y: y_test}))\u001b[0m\u001b[0;34m\u001b[0m\u001b[0;34m\u001b[0m\u001b[0m\n",
      "\u001b[0;32m~/anaconda3/lib/python3.6/site-packages/tensorflow/contrib/tensor_forest/python/tensor_forest.py\u001b[0m in \u001b[0;36minference_graph\u001b[0;34m(self, input_data, **inference_args)\u001b[0m\n\u001b[1;32m    502\u001b[0m             \u001b[0mdata_spec\u001b[0m\u001b[0;34m,\u001b[0m\u001b[0;34m\u001b[0m\u001b[0m\n\u001b[1;32m    503\u001b[0m             \u001b[0msparse_features\u001b[0m\u001b[0;34m=\u001b[0m\u001b[0mprocessed_sparse_features\u001b[0m\u001b[0;34m,\u001b[0m\u001b[0;34m\u001b[0m\u001b[0m\n\u001b[0;32m--> 504\u001b[0;31m             **inference_args)\n\u001b[0m\u001b[1;32m    505\u001b[0m         \u001b[0mprobabilities\u001b[0m\u001b[0;34m.\u001b[0m\u001b[0mappend\u001b[0m\u001b[0;34m(\u001b[0m\u001b[0mprobs\u001b[0m\u001b[0;34m)\u001b[0m\u001b[0;34m\u001b[0m\u001b[0m\n\u001b[1;32m    506\u001b[0m         \u001b[0mpaths\u001b[0m\u001b[0;34m.\u001b[0m\u001b[0mappend\u001b[0m\u001b[0;34m(\u001b[0m\u001b[0mpath\u001b[0m\u001b[0;34m)\u001b[0m\u001b[0;34m\u001b[0m\u001b[0m\n",
      "\u001b[0;32m~/anaconda3/lib/python3.6/site-packages/tensorflow/contrib/tensor_forest/python/tensor_forest.py\u001b[0m in \u001b[0;36minference_graph\u001b[0;34m(self, input_data, data_spec, sparse_features)\u001b[0m\n\u001b[1;32m    676\u001b[0m         \u001b[0msparse_shape\u001b[0m\u001b[0;34m,\u001b[0m\u001b[0;34m\u001b[0m\u001b[0m\n\u001b[1;32m    677\u001b[0m         \u001b[0minput_spec\u001b[0m\u001b[0;34m=\u001b[0m\u001b[0mdata_spec\u001b[0m\u001b[0;34m.\u001b[0m\u001b[0mSerializeToString\u001b[0m\u001b[0;34m(\u001b[0m\u001b[0;34m)\u001b[0m\u001b[0;34m,\u001b[0m\u001b[0;34m\u001b[0m\u001b[0m\n\u001b[0;32m--> 678\u001b[0;31m         params=self.params.serialized_params_proto)\n\u001b[0m\u001b[1;32m    679\u001b[0m \u001b[0;34m\u001b[0m\u001b[0m\n\u001b[1;32m    680\u001b[0m   \u001b[0;32mdef\u001b[0m \u001b[0msize\u001b[0m\u001b[0;34m(\u001b[0m\u001b[0mself\u001b[0m\u001b[0;34m)\u001b[0m\u001b[0;34m:\u001b[0m\u001b[0;34m\u001b[0m\u001b[0m\n",
      "\u001b[0;32m~/anaconda3/lib/python3.6/site-packages/tensorflow/contrib/tensor_forest/python/ops/gen_model_ops.py\u001b[0m in \u001b[0;36mtree_predictions_v4\u001b[0;34m(tree_handle, input_data, sparse_input_indices, sparse_input_values, sparse_input_shape, input_spec, params, name)\u001b[0m\n\u001b[1;32m    467\u001b[0m         \u001b[0msparse_input_values\u001b[0m\u001b[0;34m=\u001b[0m\u001b[0msparse_input_values\u001b[0m\u001b[0;34m,\u001b[0m\u001b[0;34m\u001b[0m\u001b[0m\n\u001b[1;32m    468\u001b[0m         \u001b[0msparse_input_shape\u001b[0m\u001b[0;34m=\u001b[0m\u001b[0msparse_input_shape\u001b[0m\u001b[0;34m,\u001b[0m \u001b[0minput_spec\u001b[0m\u001b[0;34m=\u001b[0m\u001b[0minput_spec\u001b[0m\u001b[0;34m,\u001b[0m\u001b[0;34m\u001b[0m\u001b[0m\n\u001b[0;32m--> 469\u001b[0;31m         params=params, name=name)\n\u001b[0m\u001b[1;32m    470\u001b[0m     \u001b[0m_result\u001b[0m \u001b[0;34m=\u001b[0m \u001b[0m_op\u001b[0m\u001b[0;34m.\u001b[0m\u001b[0moutputs\u001b[0m\u001b[0;34m[\u001b[0m\u001b[0;34m:\u001b[0m\u001b[0;34m]\u001b[0m\u001b[0;34m\u001b[0m\u001b[0m\n\u001b[1;32m    471\u001b[0m     \u001b[0m_inputs_flat\u001b[0m \u001b[0;34m=\u001b[0m \u001b[0m_op\u001b[0m\u001b[0;34m.\u001b[0m\u001b[0minputs\u001b[0m\u001b[0;34m\u001b[0m\u001b[0m\n",
      "\u001b[0;32m~/anaconda3/lib/python3.6/site-packages/tensorflow/python/framework/op_def_library.py\u001b[0m in \u001b[0;36m_apply_op_helper\u001b[0;34m(self, op_type_name, name, **keywords)\u001b[0m\n\u001b[1;32m    531\u001b[0m             \u001b[0;32mif\u001b[0m \u001b[0minput_arg\u001b[0m\u001b[0;34m.\u001b[0m\u001b[0mtype\u001b[0m \u001b[0;34m!=\u001b[0m \u001b[0mtypes_pb2\u001b[0m\u001b[0;34m.\u001b[0m\u001b[0mDT_INVALID\u001b[0m\u001b[0;34m:\u001b[0m\u001b[0;34m\u001b[0m\u001b[0m\n\u001b[1;32m    532\u001b[0m               raise TypeError(\"%s expected type of %s.\" %\n\u001b[0;32m--> 533\u001b[0;31m                               (prefix, dtypes.as_dtype(input_arg.type).name))\n\u001b[0m\u001b[1;32m    534\u001b[0m             \u001b[0;32melse\u001b[0m\u001b[0;34m:\u001b[0m\u001b[0;34m\u001b[0m\u001b[0m\n\u001b[1;32m    535\u001b[0m               \u001b[0;31m# Update the maps with the default, if needed.\u001b[0m\u001b[0;34m\u001b[0m\u001b[0;34m\u001b[0m\u001b[0m\n",
      "\u001b[0;31mTypeError\u001b[0m: Input 'input_data' of 'TreePredictionsV4' Op has type float64 that does not match expected type of float32."
     ]
    }
   ],
   "source": [
    "# Test Model\n",
    "probs, _, _ = forest_graph.inference_graph(X_test)\n",
    "\n",
    "print(\"Test Accuracy:\", sess.run(accuracy_op, feed_dict={X: X_test, Y: y_test}))\n",
    "#print(\"Test AUC\": ,sess.run(auc_op, feed_dict={X: X_test, Y: y_test}))\n",
    "\n"
   ]
  },
  {
   "cell_type": "code",
   "execution_count": null,
   "metadata": {
    "collapsed": true
   },
   "outputs": [],
   "source": []
  }
 ],
 "metadata": {
  "kernelspec": {
   "display_name": "Python 3",
   "language": "python",
   "name": "python3"
  },
  "language_info": {
   "codemirror_mode": {
    "name": "ipython",
    "version": 3
   },
   "file_extension": ".py",
   "mimetype": "text/x-python",
   "name": "python",
   "nbconvert_exporter": "python",
   "pygments_lexer": "ipython3",
   "version": "3.6.3"
  }
 },
 "nbformat": 4,
 "nbformat_minor": 2
}
